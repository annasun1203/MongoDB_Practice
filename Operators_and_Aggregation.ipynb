{
  "nbformat": 4,
  "nbformat_minor": 0,
  "metadata": {
    "kernelspec": {
      "display_name": "Python 3",
      "language": "python",
      "name": "python3"
    },
    "language_info": {
      "codemirror_mode": {
        "name": "ipython",
        "version": 3
      },
      "file_extension": ".py",
      "mimetype": "text/x-python",
      "name": "python",
      "nbconvert_exporter": "python",
      "pygments_lexer": "ipython3",
      "version": "3.7.1"
    },
    "colab": {
      "name": "Operators and Aggregation.ipynb",
      "provenance": [],
      "collapsed_sections": []
    }
  },
  "cells": [
    {
      "cell_type": "code",
      "metadata": {
        "id": "rtFsb3rBi3py"
      },
      "source": [
        "from pymongo import MongoClient\n",
        "import pymongo\n",
        "db_url= \"\"\n",
        "client = MongoClient(db_url)\n",
        "\n",
        "# See all databases: list(client.list_databases())\n",
        "airbnb=client['sample_airbnb']['listingsAndReviews']\n",
        "geospatial=client['sample_geospatial']['shipwrecks']\n",
        "supplies=client['sample_supplies']['sales']\n",
        "training=client['sample_training']\n",
        "weather=client['sample_weatherdata']['data']\n",
        "grades = training['grades']\n",
        "movies=client['sample_mflix'][\"movies\"]\n",
        "\n",
        "\n",
        "\n",
        "db2 = '' \n",
        "client2 = MongoClient(db2)\n",
        "air_routes = client2.aggregations.air_routes\n",
        "air_airlines = client2.aggregations.air_airlines\n",
        "parent_reference = client2.aggregations.parent_reference\n",
        "employees = client2.aggregations.employees\n",
        "icecream_data = client2.aggregations.icecream_data\n",
        "stocks = client2.aggregations.stocks\n",
        "customers = client2.aggregations.customers\n",
        "air_alliances = client2.aggregations.air_alliances\n",
        "solarSystem = client2.aggregations.solarSystem\n",
        "exoplanets = client2.aggregations.exoplanets\n",
        "nycFacilities = client2.aggregations.nycFacilities\n",
        "\n",
        "# exoplanets.count_documents({})\n"
      ],
      "execution_count": null,
      "outputs": []
    },
    {
      "cell_type": "markdown",
      "metadata": {
        "id": "WBSU91Sti3p2"
      },
      "source": [
        "## Question 1  \n",
        "\n",
        "In the grades collection, write a query where:\n",
        "\n",
        "~~~\n",
        "1) An object where the \"scores.type\" is \"exam\" and \"scores.score\" is greater than 98.5\n",
        "2) An object where the \"scores.type\" is \"quiz\" and \"scores.score\" is less than 50\n",
        "3) An object where the \"scores.type\" is \"homework\" and \"scores.score\" is greater than 97\n",
        "4) LIMIT to 1 result\n",
        "5) SORT by \"student_id\" and class_id descending\n",
        "~~~"
      ]
    },
    {
      "cell_type": "code",
      "metadata": {
        "colab": {
          "base_uri": "https://localhost:8080/"
        },
        "id": "jDUJBOs6FDmB",
        "outputId": "677ff7f4-3c89-433d-9c3b-27d7db9d813e"
      },
      "source": [
        "list(grades\n",
        "     .find({\"$and\": [{\"scores\": {\"$elemMatch\":\n",
        "                                 {\"type\": \"exam\",\n",
        "                                  \"score\": {\"$gt\": 98.5}}}},\n",
        "                      {\"scores\": {\"$elemMatch\":\n",
        "                                  {\"type\": \"quiz\",\n",
        "                                   \"score\": {\"$lt\": 50}}}},\n",
        "                     {\"scores\": {\"$elemMatch\":\n",
        "                                 {\"type\": \"homework\",\n",
        "                                  \"score\": {\"$gt\": 97}}\n",
        "                               }}]\n",
        "            })\n",
        "     .sort([ (\"student_id\",-1), (\"class_id\",-1)])\n",
        "     .limit(1))"
      ],
      "execution_count": null,
      "outputs": [
        {
          "output_type": "execute_result",
          "data": {
            "text/plain": [
              "[{'_id': ObjectId('56d5f7f1604eb380b0da5939'),\n",
              "  'class_id': 216.0,\n",
              "  'scores': [{'score': 99.9646959940383, 'type': 'exam'},\n",
              "   {'score': 48.086039950865334, 'type': 'quiz'},\n",
              "   {'score': 99.98929736978539, 'type': 'homework'},\n",
              "   {'score': 94.05166065389842, 'type': 'homework'}],\n",
              "  'student_id': 9841.0}]"
            ]
          },
          "metadata": {
            "tags": []
          },
          "execution_count": 75
        }
      ]
    },
    {
      "cell_type": "markdown",
      "metadata": {
        "id": "gi5_oBr9i3p3"
      },
      "source": [
        "## Question 2 \n",
        "\n",
        "In the supplies collection, write a query where:\n",
        "\n",
        "~~~\n",
        "1) AT LEAST ONE element in the array of objects in the \"items\" field has the following:\n",
        "    - \"quantity\" greater than 9\n",
        "    - \"tags\" in at least one of the following: \"office\" or \"general\"\n",
        "2) \"couponUsed\" is False\n",
        "3) \"storeLocation\" is in one of the following: \"Austin\",\"London\" OR where no \"items.name\" value is equal to \"binder\"\n",
        "2) LIMIT to 1 result\n",
        "3) SORT \"saleDate\" descending, \"storeLocation\" ascending\n",
        "~~~"
      ]
    },
    {
      "cell_type": "code",
      "metadata": {
        "colab": {
          "base_uri": "https://localhost:8080/"
        },
        "id": "oZiKG2m7Hidr",
        "outputId": "d1444652-e10e-4a33-f76e-538dec0bdaca"
      },
      "source": [
        "list(supplies\n",
        "     .find({\"items\": \n",
        "            {\"$elemMatch\": \n",
        "             {\"quantity\": {\"$gt\":9},\n",
        "              \"tags\": {\"$in\": [\"office\",\"general\"]}}},\n",
        "            \"couponUsed\": False,\n",
        "            \"$or\": [\n",
        "                    {\"storeLocation\": {\"$in\": [\"Austin\", \"London\"]}},\n",
        "                    {\"items.name\": {\"$not\": {\"$eq\": \"binder\"}}}]\n",
        "     })\n",
        "     .sort( [(\"saleDate\",-1), (\"storeLocation\",1)] )\n",
        "     .limit(1))"
      ],
      "execution_count": null,
      "outputs": [
        {
          "output_type": "execute_result",
          "data": {
            "text/plain": [
              "[{'_id': ObjectId('5bd761dcae323e45a93cd298'),\n",
              "  'couponUsed': False,\n",
              "  'customer': {'age': 55,\n",
              "   'email': 'zazipu@acisije.is',\n",
              "   'gender': 'F',\n",
              "   'satisfaction': 4},\n",
              "  'items': [{'name': 'binder',\n",
              "    'price': Decimal128('22.11'),\n",
              "    'quantity': 10,\n",
              "    'tags': ['school', 'general', 'organization']}],\n",
              "  'purchaseMethod': 'Online',\n",
              "  'saleDate': datetime.datetime(2017, 12, 29, 18, 41, 49, 488000),\n",
              "  'storeLocation': 'Austin'}]"
            ]
          },
          "metadata": {
            "tags": []
          },
          "execution_count": 76
        }
      ]
    },
    {
      "cell_type": "markdown",
      "metadata": {
        "id": "vPfnnDtRi3p5"
      },
      "source": [
        "## Question 3\n",
        "In the grades collection, write a query where:\n",
        "~~~\n",
        "1) IN \"scores\" array, any/all object(s) with a \"type\" field value of \"homework\" must have a \"score\" field value of greater than 94. In other words not any object with a type of homework can have a score less than 94.\n",
        "2) LIMIT to 1 result\n",
        "3) SORT by \"student_id\" descending, \"class_id\" descending  \n",
        "~~~"
      ]
    },
    {
      "cell_type": "code",
      "metadata": {
        "colab": {
          "base_uri": "https://localhost:8080/"
        },
        "id": "nb84zoIwPzhd",
        "outputId": "6f847227-92b9-4483-c094-2045f14a626d"
      },
      "source": [
        "list(grades\n",
        "     .find({\"scores\":\n",
        "            {\"$not\":\n",
        "             {\"$elemMatch\":\n",
        "              {\"$and\":\n",
        "               [{\"type\": \"homework\"},\n",
        "                {\"score\": {\"$lt\": 94}}]}}\n",
        "            }})\n",
        "     .sort( [(\"student_id\",-1), (\"class_id\",-1)])\n",
        "     .limit(1))"
      ],
      "execution_count": null,
      "outputs": [
        {
          "output_type": "execute_result",
          "data": {
            "text/plain": [
              "[{'_id': ObjectId('56d5f7f1604eb380b0da5f40'),\n",
              "  'class_id': 142.0,\n",
              "  'scores': [{'score': 87.67256283653538, 'type': 'exam'},\n",
              "   {'score': 25.344749508969876, 'type': 'quiz'},\n",
              "   {'score': 95.27036816628505, 'type': 'homework'},\n",
              "   {'score': 94.97547552861886, 'type': 'homework'}],\n",
              "  'student_id': 9995.0}]"
            ]
          },
          "metadata": {
            "tags": []
          },
          "execution_count": 77
        }
      ]
    },
    {
      "cell_type": "markdown",
      "metadata": {
        "id": "hGtglDc9my-t"
      },
      "source": [
        "## Question 4\n",
        "In the training.zips collection, write a query where:\n",
        "~~~\n",
        "1) GROUP by \"state\", sum the number of documents, and sum the \"pop\" field\n",
        "2) SORT \"pop\" descending \n",
        "3) LIMIT to 5 results\n",
        "~~~"
      ]
    },
    {
      "cell_type": "code",
      "metadata": {
        "id": "qn6hjrNGGE21",
        "colab": {
          "base_uri": "https://localhost:8080/"
        },
        "outputId": "de90cf50-154e-458b-e372-6b1529ff95dd"
      },
      "source": [
        "pipeline = [\n",
        "            {\"$group\": {\n",
        "                \"_id\": \"$state\",\n",
        "                \"count\": {\"$sum\": 1},\n",
        "                \"pop\": {\"$sum\": \"$pop\"}\n",
        "            }},\n",
        "            {\"$sort\": {\n",
        "                \"pop\":-1}},\n",
        "            {\"$limit\": 5}\n",
        "]\n",
        "\n",
        "list(training.zips.aggregate(pipeline))"
      ],
      "execution_count": null,
      "outputs": [
        {
          "output_type": "execute_result",
          "data": {
            "text/plain": [
              "[{'_id': 'CA', 'count': 1523, 'pop': 29760021},\n",
              " {'_id': 'NY', 'count': 1596, 'pop': 17990455},\n",
              " {'_id': 'TX', 'count': 1676, 'pop': 16986510},\n",
              " {'_id': 'FL', 'count': 826, 'pop': 12937926},\n",
              " {'_id': 'PA', 'count': 1458, 'pop': 11881643}]"
            ]
          },
          "metadata": {
            "tags": []
          },
          "execution_count": 78
        }
      ]
    },
    {
      "cell_type": "markdown",
      "metadata": {
        "id": "fHsZgTKzi3p6"
      },
      "source": [
        "## Question 5\n",
        "\n",
        "~~~\n",
        "SELECT year, COUNT(*) as moviesCount\n",
        "FROM movies\n",
        "GROUP BY year\n",
        "HAVING moviesCount > 1000\n",
        "ORDER BY moviesCount DESC\n",
        "~~~"
      ]
    },
    {
      "cell_type": "code",
      "metadata": {
        "colab": {
          "base_uri": "https://localhost:8080/"
        },
        "id": "2S-DT7E__c7m",
        "outputId": "8677274d-6525-4d26-923d-daa62f36941f"
      },
      "source": [
        "# remember to GROUP moviesCount! when selecting COUNT(*) moviesCount\n",
        "pipeline = [\n",
        "            {\"$project\": {\n",
        "                \"year\":1,\n",
        "                \"moviesCount\": {\"$sum\": 1}}},\n",
        "            {\"$group\": {\"_id\": \"$year\",\n",
        "                        \"moviesCount\": {\"$sum\": 1}}},\n",
        "            {\"$match\": {\"moviesCount\": {\"$gt\": 1000}}},\n",
        "            {\"$sort\": {\"moviesCount\": -1}}\n",
        "]\n",
        "\n",
        "list(movies.aggregate(pipeline))"
      ],
      "execution_count": null,
      "outputs": [
        {
          "output_type": "execute_result",
          "data": {
            "text/plain": [
              "[{'_id': 2013, 'moviesCount': 1220},\n",
              " {'_id': 2014, 'moviesCount': 1147},\n",
              " {'_id': 2012, 'moviesCount': 1109},\n",
              " {'_id': 2011, 'moviesCount': 1040}]"
            ]
          },
          "metadata": {
            "tags": []
          },
          "execution_count": 79
        }
      ]
    },
    {
      "cell_type": "markdown",
      "metadata": {
        "id": "TE56kyr2i3p7"
      },
      "source": [
        "## Question 6\n",
        "\n",
        "In the movies collection, write a query where:\n",
        "\n",
        "~~~\n",
        "1) All of the following:  \n",
        "-\"rated\" value is \"UNRATED\" OR \"countries\" is \"USA\" OR \"num_mflix_comments\" is between 10 and 20\n",
        "- The \"awards.wins\" is greater than 10\n",
        "- \"genres\" has all of the following values: \"Comedy\",\"Romance\"\n",
        "5) ONLY RETURN the following values: \"rated\", \"countries\",\"num_mflix_comments\",\"awards.wins\",\"genres\", \"title\"\n",
        "6) LIMIT to 1\n",
        "7) Sort \"num_mflix_comments\" descending and \"title\" ascending\n",
        "~~~"
      ]
    },
    {
      "cell_type": "code",
      "metadata": {
        "colab": {
          "base_uri": "https://localhost:8080/"
        },
        "id": "d9fvYS1_QjDO",
        "outputId": "ed7c65b3-6bff-4351-c0a3-b42c1a6c19e2"
      },
      "source": [
        "pipeline = [\n",
        "            {\"$match\": {\n",
        "                \"$or\": [{\"rated\": \"UNRATED\"},\n",
        "                        {\"countries\": \"USA\"},\n",
        "                        {\"num_mflix_comments\": {\"$gt\":10, \"$lt\":20}}],\n",
        "                \"awards.wins\": {\"$gt\": 10},\n",
        "                \"genres\": {\"$in\": [\"Comedy\", \"Romance\"]}\n",
        "            }},\n",
        "            {\"$project\": {\n",
        "                \"rated\":1, \n",
        "                \"countries\":1,\n",
        "                \"num_mflix_comments\":1, \n",
        "                \"awards.wins\":1,\n",
        "                \"genres\":1,\n",
        "                \"title\":1\n",
        "            }},\n",
        "            {\"$sort\": {\"num_mflix_comments\":-1, \"title\":1}},\n",
        "            {\"$limit\":1}\n",
        "]\n",
        "\n",
        "list(movies.aggregate(pipeline))"
      ],
      "execution_count": null,
      "outputs": [
        {
          "output_type": "execute_result",
          "data": {
            "text/plain": [
              "[{'_id': ObjectId('573a13a5f29313caabd159a9'),\n",
              "  'awards': {'wins': 13},\n",
              "  'countries': ['UK', 'USA', 'France', 'Germany'],\n",
              "  'genres': ['Comedy', 'Drama', 'Romance'],\n",
              "  'num_mflix_comments': 441,\n",
              "  'rated': 'PG-13',\n",
              "  'title': 'About a Boy'}]"
            ]
          },
          "metadata": {
            "tags": []
          },
          "execution_count": 80
        }
      ]
    },
    {
      "cell_type": "markdown",
      "metadata": {
        "id": "3rWhWcCSi3p8"
      },
      "source": [
        "## Question 7\n",
        "\n",
        "In the training.companies collection, write a query where:\n",
        "\n",
        "~~~\n",
        "1) \"relationships\" array where a single object has a \"title\" field value of \"CFO\" and a \"person.first_name\" field value of \"Gary\"\n",
        "2) \"relationships\" array where the \"title\" field never has a value of \"Board of Directors\" and the \"title\" field exists\n",
        "3) Return ONLY the following fields: \"relationships.title\",  \"relationships.person.first_name\", \"name\"\n",
        "4) LIMIT to 1 result\n",
        "5) SORT \"name\" in ascending order\n",
        "~~~"
      ]
    },
    {
      "cell_type": "code",
      "metadata": {
        "colab": {
          "base_uri": "https://localhost:8080/"
        },
        "id": "PpsGHeraTSdP",
        "outputId": "9fa07773-3788-4ad2-a3f9-e7c559ef6f47"
      },
      "source": [
        "pipeline = [\n",
        "            {\"$match\": {\"$and\": [\n",
        "                                 {\"relationships\": {\n",
        "                                     \"$elemMatch\": {\"title\": \"CFO\",\n",
        "                                                    \"person.first_name\": \"Gary\"}}},\n",
        "                                 {\"relationships\": {\n",
        "                                     \"$elemMatch\": {\"title\": {\"$ne\": \"Board of Directors\"},\n",
        "                                                    \"title\":{\"$exists\": True}\n",
        "                                 }}}]\n",
        "            }},\n",
        "            {\"$sort\": {\"name\":1}},\n",
        "            {\"$project\": {\n",
        "                \"relationships.title\":1,\n",
        "                \"relationships.person.first_name\":1,\n",
        "                \"name\":1\n",
        "            }},\n",
        "            {\"$limit\":1}          \n",
        "]\n",
        "\n",
        "list(training.companies.aggregate(pipeline))"
      ],
      "execution_count": null,
      "outputs": [
        {
          "output_type": "execute_result",
          "data": {
            "text/plain": [
              "[{'_id': ObjectId('52cdef7d4bab8bd675299102'),\n",
              "  'name': 'KnowNow',\n",
              "  'relationships': [{'person': {'first_name': 'Todd'},\n",
              "    'title': 'President and CEO'},\n",
              "   {'person': {'first_name': 'Bill'}, 'title': 'CEO'},\n",
              "   {'person': {'first_name': 'Adam'}, 'title': 'Co-Founder and Board'},\n",
              "   {'person': {'first_name': 'Gary'}, 'title': 'CFO'},\n",
              "   {'person': {'first_name': 'Sam'},\n",
              "    'title': 'Vice President of Technical Services'},\n",
              "   {'person': {'first_name': 'Satish'}, 'title': 'VP Engineering'},\n",
              "   {'person': {'first_name': 'Rohit'}, 'title': 'co-founder'},\n",
              "   {'person': {'first_name': 'Amanda'},\n",
              "    'title': 'Business Development and Sales Intern'},\n",
              "   {'person': {'first_name': 'Issac'}, 'title': 'Product Manager'},\n",
              "   {'person': {'first_name': 'Niloy'}, 'title': ''},\n",
              "   {'person': {'first_name': 'Tommy'}, 'title': 'Client Architect'},\n",
              "   {'person': {'first_name': 'Ryan'},\n",
              "    'title': 'Vice President of Marketing'}]}]"
            ]
          },
          "metadata": {
            "tags": []
          },
          "execution_count": 81
        }
      ]
    },
    {
      "cell_type": "markdown",
      "metadata": {
        "id": "a2KdHFQLi3p_"
      },
      "source": [
        "## Question 8\n",
        "\n",
        "In the training.companies collection, write a query where:\n",
        "\n",
        "~~~\n",
        "1) \"funding_rounds\" array of objects has one element/item/object where\n",
        "    -\"round_code\" is not in the following values: \"a\",\"b\",\"unattributed\",\"seed\",'angel' and exists\n",
        "    -\"funded_year\" is greater than 2005 and less than or equal to 2008\n",
        "    - \"raised_amount\" is greater than 5000000 OR \"raised_currency_code\" is not equal to \"USD\"\n",
        "2) LIMIT to 1 result\n",
        "3) SORT by \"founded_year\" descending, \"name\" ascending\n",
        "4) Return the following fields \"funding_rounds.round_code\",\"funding_rounds.funded_year\",\"funding_rounds.raised_amount\",\n",
        "         \"funding_rounds.investments\",\"funding_rounds.raised_currency_code\",\"founded_year\", \"name\"\n",
        "~~~"
      ]
    },
    {
      "cell_type": "code",
      "metadata": {
        "colab": {
          "base_uri": "https://localhost:8080/"
        },
        "id": "XLSaOtXPwv2f",
        "outputId": "c0797c57-5a44-41a6-83c4-b4d86b11ae22"
      },
      "source": [
        "pipeline = [\n",
        "            {\"$match\": {\n",
        "                \"funding_rounds\": {\n",
        "                    \"$elemMatch\": {\"round_code\": {\"$not\": {\"$in\":\n",
        "                                                   [\"a\", \"b\", \"unattributed\", \"seed\", \"angel\"]}, \"$exists\": True},\n",
        "                                    \"funded_year\": {\"$gt\": 2005, \"$lte\": 2008},\n",
        "                                    \"$or\": [\n",
        "                                           {\"raised_amount\": {\"$gt\": 5000000}},\n",
        "                                           {\"raised_currency_code\": {\"$ne\": \"USD\"}}]}}\n",
        "            }},\n",
        "            {\"$sort\": {\"founded_year\": -1,\"name\": 1\n",
        "            }},\n",
        "            {\"$limit\":1},\n",
        "            {\"$project\": {\n",
        "                \"funding_rounds.round_code\": 1,\n",
        "                \"funding_rounds.funded_year\":1,\n",
        "                \"funding_rounds.raised_amount\":1,\n",
        "                \"funding_rounds.investments\":1,\n",
        "                \"funding_rounds.raised_currency_code\":1,\n",
        "                \"founded_year\":1,\n",
        "                \"name\":1}}\n",
        "]\n",
        "\n",
        "list(training.companies.aggregate(pipeline))"
      ],
      "execution_count": null,
      "outputs": [
        {
          "output_type": "execute_result",
          "data": {
            "text/plain": [
              "[{'_id': ObjectId('52cdef7e4bab8bd67529ab2f'),\n",
              "  'founded_year': 2009,\n",
              "  'funding_rounds': [{'funded_year': 2008,\n",
              "    'investments': [{'company': None,\n",
              "      'financial_org': {'name': 'Sequoia Capital',\n",
              "       'permalink': 'sequoia-capital'},\n",
              "      'person': None},\n",
              "     {'company': None,\n",
              "      'financial_org': {'name': 'Lightspeed Venture Partners',\n",
              "       'permalink': 'lightspeed-venture-partners'},\n",
              "      'person': None},\n",
              "     {'company': None,\n",
              "      'financial_org': {'name': 'TL Ventures', 'permalink': 'tl-ventures'},\n",
              "      'person': None},\n",
              "     {'company': None,\n",
              "      'financial_org': {'name': 'ABS Ventures', 'permalink': 'abs-ventures'},\n",
              "      'person': None}],\n",
              "    'raised_amount': 8000000,\n",
              "    'raised_currency_code': 'USD',\n",
              "    'round_code': 'd'}],\n",
              "  'name': 'ScaleMP'}]"
            ]
          },
          "metadata": {
            "tags": []
          },
          "execution_count": 82
        }
      ]
    },
    {
      "cell_type": "markdown",
      "metadata": {
        "id": "wK_wF3_Cf-Yp"
      },
      "source": [
        "## Question 9\n",
        "\n",
        "In the supplies collection:\n",
        "\n",
        "~~~\n",
        "1) Select/project the couponUsed, and create the follow fields:\n",
        "-\"avg_quantity\" = average of the \"items.quantity\" field \n",
        "-\"max_price\" = maximum of the \"items.price\" field\n",
        "2) Group by the couponUsed field, and compute the following fields:\n",
        "- \"avg_quantity\" = average of the \"avg_quantity\" field\n",
        "-\"max_price\" = maximum of the \"max_price\" price field\n",
        "-\"count\" =  the number of documents in the grouping\n",
        "3) Order by the \"max_price\" field descending\n",
        "~~~"
      ]
    },
    {
      "cell_type": "code",
      "metadata": {
        "colab": {
          "base_uri": "https://localhost:8080/"
        },
        "id": "ebxlIz2h2Fjo",
        "outputId": "deb4edfa-7bfd-4b60-9e46-26bf673937d2"
      },
      "source": [
        "pipeline = [\n",
        "            {\"$project\": {\n",
        "                \"couponUsed\": 1,\n",
        "                \"avg_quantity\": {\"$avg\": \"$items.quantity\"},\n",
        "                \"max_price\": {\"$max\": \"$items.price\"}}},\n",
        "            {\"$group\": {\n",
        "                \"_id\": \"$couponUsed\",\n",
        "                \"avg_quantity\": {\"$avg\": \"$avg_quantity\"},\n",
        "                \"max_price\": {\"$max\": \"$max_price\"},\n",
        "                \"count\": {\"$sum\": 1}\n",
        "            }},\n",
        "            {\"$sort\": {\n",
        "                \"max_price\": -1\n",
        "            }}\n",
        "]\n",
        "\n",
        "list(supplies.aggregate(pipeline))"
      ],
      "execution_count": null,
      "outputs": [
        {
          "output_type": "execute_result",
          "data": {
            "text/plain": [
              "[{'_id': False,\n",
              "  'avg_quantity': 4.03899952272161,\n",
              "  'count': 4523,\n",
              "  'max_price': Decimal128('1599.49')},\n",
              " {'_id': True,\n",
              "  'avg_quantity': 4.017110911450534,\n",
              "  'count': 477,\n",
              "  'max_price': Decimal128('1595.35')}]"
            ]
          },
          "metadata": {
            "tags": []
          },
          "execution_count": 83
        }
      ]
    },
    {
      "cell_type": "markdown",
      "metadata": {
        "id": "Qfgk7-VlgGPV"
      },
      "source": [
        "## Question 10\n",
        "\n",
        "In the grades collection:\n",
        "\n",
        "~~~\n",
        "1) The \"scores\" array has no object with \"type\" field value of \"homework\" and \"score\" less than 90. (e.g. {type:\"homework\",score:80} should not pass this filter)\n",
        "2) project the \"class_id\", and set the \"avg_score\" field equal to the average of the \"scores.score\" fields\n",
        "3) group on class_id, set the \"class_avg\" to the average of the \"avg_score\" field, and set the \"count\" to the number of documents in the grouping\n",
        "4) Order by count descending, _id ascending\n",
        "5) limit to 3 results\n",
        "~~~"
      ]
    },
    {
      "cell_type": "code",
      "metadata": {
        "colab": {
          "base_uri": "https://localhost:8080/"
        },
        "id": "NcmXvYxAwxNx",
        "outputId": "cbac1cd7-cd55-415d-fcfc-4eb4fa3cf2ab"
      },
      "source": [
        "pipeline = [\n",
        "            {\"$match\": \n",
        "             {\"scores\": {\n",
        "                \"$not\": {\"$elemMatch\": {\"type\": \"homework\",\n",
        "                                        \"score\": {\"$lt\": 90}}}}\n",
        "            }},\n",
        "            {\"$project\": {\n",
        "                \"class_id\":1,\n",
        "                \"avg_score\": {\"$avg\": \"$scores.score\"}}},\n",
        "            {\"$group\": {\n",
        "                \"_id\": \"$class_id\",\n",
        "                \"class_avg\": {\"$avg\": \"$avg_score\"},\n",
        "                \"count\": {\"$sum\": 1}\n",
        "            }},\n",
        "            {\"$sort\": {\n",
        "                \"count\": -1,\n",
        "                \"_id\": 1\n",
        "            }},\n",
        "            {\"$limit\": 3}\n",
        "]\n",
        "\n",
        "list(grades.aggregate(pipeline))"
      ],
      "execution_count": null,
      "outputs": [
        {
          "output_type": "execute_result",
          "data": {
            "text/plain": [
              "[{'_id': 142.0, 'class_avg': 74.49470669501589, 'count': 7},\n",
              " {'_id': 352.0, 'class_avg': 76.52568914087034, 'count': 7},\n",
              " {'_id': 15.0, 'class_avg': 64.64920120380651, 'count': 6}]"
            ]
          },
          "metadata": {
            "tags": []
          },
          "execution_count": 84
        }
      ]
    }
  ]
}